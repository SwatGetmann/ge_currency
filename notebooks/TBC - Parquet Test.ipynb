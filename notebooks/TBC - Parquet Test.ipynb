{
 "cells": [
  {
   "cell_type": "code",
   "execution_count": null,
   "metadata": {},
   "outputs": [],
   "source": [
    "import pandas as pd\n",
    "import datetime"
   ]
  },
  {
   "cell_type": "code",
   "execution_count": null,
   "metadata": {},
   "outputs": [],
   "source": [
    "import sys\n",
    "sys.path.append(\"../.\")"
   ]
  },
  {
   "cell_type": "code",
   "execution_count": null,
   "metadata": {},
   "outputs": [],
   "source": [
    "import tbc"
   ]
  },
  {
   "cell_type": "code",
   "execution_count": null,
   "metadata": {},
   "outputs": [],
   "source": [
    "prefix = \"TBC_230101_230706\"\n",
    "currencies = ['USD', 'EUR']\n",
    "start_dt = datetime.datetime(year=2023, month=1, day=1)\n",
    "end_dt = datetime.datetime(year=2023, month=7, day=6)\n",
    "\n",
    "save_path_prefix = tbc.save_fpath_generator(ftype='results_prefix', prefix=prefix)\n",
    "marker_path = tbc.save_fpath_generator(ftype='marker', prefix=prefix)\n",
    "\n",
    "tbc.paginated_crawl(\n",
    "    save_fpath_prefix=save_path_prefix, \n",
    "    marker_fpath=marker_path, \n",
    "    start_dt=start_dt,\n",
    "    end_dt=end_dt, \n",
    "    currencies=currencies\n",
    ")\n",
    "\n",
    "results = tbc.paginated_parse(\n",
    "    save_fpath_prefix=save_path_prefix, \n",
    "    marker_fpath=marker_path, \n",
    "    start_dt=start_dt,\n",
    "    end_dt=end_dt, \n",
    "    currencies=currencies\n",
    ")\n",
    "print(results)\n",
    "\n",
    "df = pd.DataFrame(results)\n",
    "parquet_path = tbc.save_fpath_generator(ftype='parquet', prefix=prefix)\n",
    "tbc.save_parquet(path=parquet_path, df=df)"
   ]
  },
  {
   "cell_type": "code",
   "execution_count": null,
   "metadata": {},
   "outputs": [],
   "source": [
    "df"
   ]
  },
  {
   "cell_type": "code",
   "execution_count": null,
   "metadata": {},
   "outputs": [],
   "source": [
    "df.describe()"
   ]
  },
  {
   "cell_type": "code",
   "execution_count": null,
   "metadata": {},
   "outputs": [],
   "source": [
    "df = pd.read_parquet(path=parquet_path, engine='pyarrow')\n",
    "df.describe()"
   ]
  }
 ],
 "metadata": {
  "kernelspec": {
   "display_name": "env",
   "language": "python",
   "name": "python3"
  },
  "language_info": {
   "codemirror_mode": {
    "name": "ipython",
    "version": 3
   },
   "file_extension": ".py",
   "mimetype": "text/x-python",
   "name": "python",
   "nbconvert_exporter": "python",
   "pygments_lexer": "ipython3",
   "version": "3.9.6"
  },
  "orig_nbformat": 4
 },
 "nbformat": 4,
 "nbformat_minor": 2
}
