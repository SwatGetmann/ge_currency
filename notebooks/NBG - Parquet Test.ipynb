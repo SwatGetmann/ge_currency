{
 "cells": [
  {
   "cell_type": "code",
   "execution_count": null,
   "metadata": {},
   "outputs": [],
   "source": [
    "import pandas as pd\n",
    "import datetime"
   ]
  },
  {
   "cell_type": "code",
   "execution_count": null,
   "metadata": {},
   "outputs": [],
   "source": [
    "import sys\n",
    "\n",
    "sys.path.append(\"../.\")"
   ]
  },
  {
   "cell_type": "code",
   "execution_count": null,
   "metadata": {},
   "outputs": [],
   "source": [
    "import nbg_gov"
   ]
  },
  {
   "cell_type": "code",
   "execution_count": null,
   "metadata": {},
   "outputs": [],
   "source": [
    "prefix = \"NBG_230101_230705\"\n",
    "currencies = ['USD', 'EUR']\n",
    "start_dt = datetime.datetime(year=2023, month=1, day=1)\n",
    "end_dt = datetime.datetime(year=2023, month=7, day=5)\n",
    "\n",
    "nbg_gov.crawl(\n",
    "    save_fpath_prefix=prefix,\n",
    "    currencies=currencies,\n",
    "    start_dt=start_dt.strftime('%F'),\n",
    "    end_dt=end_dt.strftime('%F'),\n",
    ")"
   ]
  },
  {
   "cell_type": "code",
   "execution_count": null,
   "metadata": {},
   "outputs": [],
   "source": [
    "paruqet_paths = [nbg_gov.save_fpath_generator('parquet', prefix, c) for c in currencies]\n",
    "# paruqet_paths\n",
    "\n",
    "pd.read_parquet(path=paruqet_paths[0], engine='pyarrow')\n",
    "\n",
    "dfs = []\n",
    "for pp in paruqet_paths:\n",
    "    dfs.append(pd.read_parquet(path=pp, engine='pyarrow'))\n",
    "    \n",
    "dfs"
   ]
  }
 ],
 "metadata": {
  "kernelspec": {
   "display_name": "env",
   "language": "python",
   "name": "python3"
  },
  "language_info": {
   "codemirror_mode": {
    "name": "ipython",
    "version": 3
   },
   "file_extension": ".py",
   "mimetype": "text/x-python",
   "name": "python",
   "nbconvert_exporter": "python",
   "pygments_lexer": "ipython3",
   "version": "3.9.6"
  },
  "orig_nbformat": 4
 },
 "nbformat": 4,
 "nbformat_minor": 2
}
